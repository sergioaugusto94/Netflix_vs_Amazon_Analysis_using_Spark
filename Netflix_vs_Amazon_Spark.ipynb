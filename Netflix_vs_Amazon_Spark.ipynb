{
  "nbformat": 4,
  "nbformat_minor": 0,
  "metadata": {
    "colab": {
      "name": "Netflix_vs_Amazon_Spark.ipynb",
      "provenance": [],
      "collapsed_sections": [],
      "authorship_tag": "ABX9TyP7G/gS67/uwHBtFs4bZG1C",
      "include_colab_link": true
    },
    "kernelspec": {
      "display_name": "Python 3",
      "name": "python3"
    },
    "language_info": {
      "name": "python"
    }
  },
  "cells": [
    {
      "cell_type": "markdown",
      "metadata": {
        "id": "view-in-github",
        "colab_type": "text"
      },
      "source": [
        "<a href=\"https://colab.research.google.com/github/sergioaugusto94/Netflix_vs_Amazon_Analysis_using_Spark/blob/main/Netflix_vs_Amazon_Spark.ipynb\" target=\"_parent\"><img src=\"https://colab.research.google.com/assets/colab-badge.svg\" alt=\"Open In Colab\"/></a>"
      ]
    },
    {
      "cell_type": "markdown",
      "metadata": {
        "id": "tH5P95lU4mMw"
      },
      "source": [
        "Uma empresa fictícia de streaming de video está com o desafio de fazer estudos de mercado para formular a estratégia de negócio que irão adotar.\n",
        "Para uma parte do estudo de mercado a empresa precisa fazer análises em cima filmes e séries que estão disponíveis na Amazon e na Netflix, duas de suas concorrentes diretas, respondendo a várias perguntas de negócio relacionadas aos\n",
        "dados da Amazon e da Netflix, que estão listadas abaixo:\n",
        "\n",
        "- Quantos filmes estão disponíveis na Amazon?\n",
        "- Quantos filmes estão disponíveis na Netflix?\n",
        "- Dos filmes disponíveis na Amazon, quantos % estão disponíveis na Netflix?\n",
        "- Qual ano de lançamento possui mais filmes na Netflix?\n",
        "- Quais filmes que não estão disponíveis no catálogo da Netflix foram melhor avaliados (notas 4 e 5)?\n",
        "- Quais filmes que não estão disponíveis no catálogo da Netflix foram melhor avaliados (notas 4 e 5)?\n",
        "\n",
        "\n",
        "No link abaixo, são encontradas as bases de dados necessárias para a execução desse trabalho:\n",
        "\n",
        "● Netflix: https://www.kaggle.com/netflix-inc/netflix-prize-data\n",
        "\n",
        "● Amazon: https://s3.amazonaws.com/amazon-reviews-pds/readme.html"
      ]
    },
    {
      "cell_type": "code",
      "metadata": {
        "id": "70c6WWKcs5xf"
      },
      "source": [
        "!apt-get install openjdk-8-jdk-headless -qq > /dev/null\n",
        "!wget -q https://www-us.apache.org/dist/spark/spark-3.1.2/spark-3.1.2-bin-hadoop2.7.tgz\n",
        "!tar xf spark-3.1.2-bin-hadoop2.7.tgz\n",
        "!pip install -q findspark\n",
        "import os\n",
        "os.environ[\"JAVA_HOME\"] = \"/usr/lib/jvm/java-8-openjdk-amd64\"\n",
        "os.environ[\"SPARK_HOME\"] = \"/content/spark-3.1.2-bin-hadoop2.7\"\n",
        "import findspark\n",
        "findspark.init()\n"
      ],
      "execution_count": null,
      "outputs": []
    },
    {
      "cell_type": "markdown",
      "metadata": {
        "id": "CTUj6yaip9W4"
      },
      "source": [
        "Criando a seção Spark"
      ]
    },
    {
      "cell_type": "code",
      "metadata": {
        "id": "3jgWd46oAGlI"
      },
      "source": [
        "from pyspark.sql import SparkSession\n",
        "from pyspark import SparkContext\n",
        "\n",
        "sc = SparkContext('local', 'First_App')\n",
        "spark = SparkSession(sc)"
      ],
      "execution_count": null,
      "outputs": []
    },
    {
      "cell_type": "markdown",
      "metadata": {
        "id": "niB_kxM4pY6w"
      },
      "source": [
        "Carregando os arquivos contendo as avaliações dos usuários para cada código de filme, usando o separador de linhas \\n"
      ]
    },
    {
      "cell_type": "code",
      "metadata": {
        "id": "2YAi0D_GyY8T"
      },
      "source": [
        "df1 = spark.read.csv('/content/combined_data_1.txt', sep = '\\n', ignoreTrailingWhiteSpace = True)\n",
        "df1 = df1.select('_c0')\n",
        "\n",
        "df2 = spark.read.csv('/content/combined_data_2.txt', sep = '\\n', ignoreTrailingWhiteSpace = True)\n",
        "df2 = df2.select('_c0')\n",
        "\n",
        "df3 = spark.read.csv('/content/combined_data_3.txt', sep = '\\n', ignoreTrailingWhiteSpace = True)\n",
        "df3 = df3.select('_c0')\n",
        "\n",
        "df4 = spark.read.csv('/content/combined_data_4.txt', sep = '\\n', ignoreTrailingWhiteSpace = True)\n",
        "df4 = df4.select('_c0')"
      ],
      "execution_count": null,
      "outputs": []
    },
    {
      "cell_type": "markdown",
      "metadata": {
        "id": "ebTbEkufqIAq"
      },
      "source": [
        "Unido os Dataframes em um único df"
      ]
    },
    {
      "cell_type": "code",
      "metadata": {
        "id": "b6m5sNPEn2-J",
        "colab": {
          "base_uri": "https://localhost:8080/"
        },
        "outputId": "86bef036-7247-4064-b6e1-38a430c266df"
      },
      "source": [
        "df = df1.union(df2);\n",
        "df = df.union(df3);\n",
        "df = df.union(df4);\n",
        "\n",
        "df.show(5)"
      ],
      "execution_count": null,
      "outputs": [
        {
          "output_type": "stream",
          "text": [
            "+--------------------+\n",
            "|                 _c0|\n",
            "+--------------------+\n",
            "|                  1:|\n",
            "|1488844,3,2005-09-06|\n",
            "| 822109,5,2005-05-13|\n",
            "| 885013,4,2005-10-19|\n",
            "|  30878,4,2005-12-26|\n",
            "+--------------------+\n",
            "only showing top 5 rows\n",
            "\n"
          ],
          "name": "stdout"
        }
      ]
    },
    {
      "cell_type": "markdown",
      "metadata": {
        "id": "_SrGNiYtqR-A"
      },
      "source": [
        "Separando os dados em colunas. Detalhe que quando temos o código do filme, as colunas 'Rating' e 'Date' ficam com valores nulos e a coluna CLient_Id contém o código do filme juntamente com :"
      ]
    },
    {
      "cell_type": "code",
      "metadata": {
        "id": "hf2NmSYBx9hY",
        "colab": {
          "base_uri": "https://localhost:8080/"
        },
        "outputId": "cd5a2aa0-0780-443c-8251-9c6fe5101140"
      },
      "source": [
        "from pyspark.sql.functions import split\n",
        "\n",
        "split_col =  split(df._c0, '\\\\,',)\n",
        "\n",
        "df = df.withColumn(\"Client_Id\", split_col.getItem(0))\\\n",
        "    .withColumn(\"Rating\", split_col.getItem(1))\\\n",
        "    .withColumn(\"Date\", split_col.getItem(2))\\\n",
        "    .drop(\"_c0\")\n",
        "  \n",
        "df.show(5)"
      ],
      "execution_count": null,
      "outputs": [
        {
          "output_type": "stream",
          "text": [
            "+---------+------+----------+\n",
            "|Client_Id|Rating|      Date|\n",
            "+---------+------+----------+\n",
            "|       1:|  null|      null|\n",
            "|  1488844|     3|2005-09-06|\n",
            "|   822109|     5|2005-05-13|\n",
            "|   885013|     4|2005-10-19|\n",
            "|    30878|     4|2005-12-26|\n",
            "+---------+------+----------+\n",
            "only showing top 5 rows\n",
            "\n"
          ],
          "name": "stdout"
        }
      ]
    },
    {
      "cell_type": "markdown",
      "metadata": {
        "id": "uJuyXAVnqjbY"
      },
      "source": [
        "Cria uma nova coluna 'filme' com os códigos dos filmes. As linhas de código identificam como sendo o Id de filme pelo fato de logo depois do Id haver o caracter ':'\n",
        "\n",
        "A última linha preenche com Null as linhas na qual não contém o Id do filme."
      ]
    },
    {
      "cell_type": "code",
      "metadata": {
        "id": "AS2jD9IcHkhm",
        "colab": {
          "base_uri": "https://localhost:8080/"
        },
        "outputId": "3b5745d6-4659-4fcf-a5d0-c2d7a130a3fd"
      },
      "source": [
        "import pyspark.sql.functions as f\n",
        "\n",
        "df = df.select('Client_Id', 'Rating', 'Date', \n",
        "               f.regexp_extract(\"Client_Id\", pattern=\"^[0-9]+(?=:)\", idx=0).alias('filme'))\n",
        "\n",
        "df = df.withColumn('filme', f.when(f.col('filme') == '', None).otherwise(f.col('filme')))\n",
        "\n",
        "df.show(5)\n"
      ],
      "execution_count": null,
      "outputs": [
        {
          "output_type": "stream",
          "text": [
            "+---------+------+----------+-----+\n",
            "|Client_Id|Rating|      Date|filme|\n",
            "+---------+------+----------+-----+\n",
            "|       1:|  null|      null|    1|\n",
            "|  1488844|     3|2005-09-06| null|\n",
            "|   822109|     5|2005-05-13| null|\n",
            "|   885013|     4|2005-10-19| null|\n",
            "|    30878|     4|2005-12-26| null|\n",
            "+---------+------+----------+-----+\n",
            "only showing top 5 rows\n",
            "\n"
          ],
          "name": "stdout"
        }
      ]
    },
    {
      "cell_type": "markdown",
      "metadata": {
        "id": "1kfNgWaGrxSl"
      },
      "source": [
        "Cria uma coluna com valores enumerados a partir de 0, que será utilizada em uma próxima etapa do tratamento dos dados. "
      ]
    },
    {
      "cell_type": "code",
      "metadata": {
        "id": "fUTnwuOARLSL",
        "colab": {
          "base_uri": "https://localhost:8080/"
        },
        "outputId": "aefda738-362c-43e4-bf69-da50cd254a91"
      },
      "source": [
        "df = df.withColumn(\"id\", f.monotonically_increasing_id())\n",
        "\n",
        "df.show(5)"
      ],
      "execution_count": null,
      "outputs": [
        {
          "output_type": "stream",
          "text": [
            "+---------+------+----------+-----+---+\n",
            "|Client_Id|Rating|      Date|filme| id|\n",
            "+---------+------+----------+-----+---+\n",
            "|       1:|  null|      null|    1|  0|\n",
            "|  1488844|     3|2005-09-06| null|  1|\n",
            "|   822109|     5|2005-05-13| null|  2|\n",
            "|   885013|     4|2005-10-19| null|  3|\n",
            "|    30878|     4|2005-12-26| null|  4|\n",
            "+---------+------+----------+-----+---+\n",
            "only showing top 5 rows\n",
            "\n"
          ],
          "name": "stdout"
        }
      ]
    },
    {
      "cell_type": "markdown",
      "metadata": {
        "id": "LyUDkrthsGKN"
      },
      "source": [
        "Nessa linha, a coluna com os códigos dos filmes é criada usando a coluna 'filme' como referência."
      ]
    },
    {
      "cell_type": "code",
      "metadata": {
        "id": "BHUnmoKpSHyj",
        "colab": {
          "base_uri": "https://localhost:8080/"
        },
        "outputId": "0af6d0af-990a-4c32-c77d-10cec7cf2128"
      },
      "source": [
        "#preenche a coluna com os id de filme\n",
        "from pyspark.sql import Window\n",
        "\n",
        "df = df.withColumn('Movie_Id',f.when(df.filme>0,df.filme).otherwise(f.last(df.filme,ignorenulls=True).over(Window.orderBy(\"id\"))))\n",
        "\n",
        "df.show(5)"
      ],
      "execution_count": null,
      "outputs": [
        {
          "output_type": "stream",
          "text": [
            "+---------+------+----------+-----+---+--------+\n",
            "|Client_Id|Rating|      Date|filme| id|Movie_Id|\n",
            "+---------+------+----------+-----+---+--------+\n",
            "|       1:|  null|      null|    1|  0|       1|\n",
            "|  1488844|     3|2005-09-06| null|  1|       1|\n",
            "|   822109|     5|2005-05-13| null|  2|       1|\n",
            "|   885013|     4|2005-10-19| null|  3|       1|\n",
            "|    30878|     4|2005-12-26| null|  4|       1|\n",
            "+---------+------+----------+-----+---+--------+\n",
            "only showing top 5 rows\n",
            "\n"
          ],
          "name": "stdout"
        }
      ]
    },
    {
      "cell_type": "markdown",
      "metadata": {
        "id": "M_MJYJY2tyw4"
      },
      "source": [
        "Aqui removemos as linhas que possuem valores nulos."
      ]
    },
    {
      "cell_type": "code",
      "metadata": {
        "id": "knGaUdTufhOP",
        "colab": {
          "base_uri": "https://localhost:8080/"
        },
        "outputId": "47b3139f-4ca1-4081-8a3e-c9f778f1d254"
      },
      "source": [
        "df = df.where(f.col(\"Rating\").isNotNull())\n",
        "\n",
        "df.show(5)"
      ],
      "execution_count": null,
      "outputs": [
        {
          "output_type": "stream",
          "text": [
            "+---------+------+----------+-----+---+--------+\n",
            "|Client_Id|Rating|      Date|filme| id|Movie_Id|\n",
            "+---------+------+----------+-----+---+--------+\n",
            "|  1488844|     3|2005-09-06| null|  1|       1|\n",
            "|   822109|     5|2005-05-13| null|  2|       1|\n",
            "|   885013|     4|2005-10-19| null|  3|       1|\n",
            "|    30878|     4|2005-12-26| null|  4|       1|\n",
            "|   823519|     3|2004-05-03| null|  5|       1|\n",
            "+---------+------+----------+-----+---+--------+\n",
            "only showing top 5 rows\n",
            "\n"
          ],
          "name": "stdout"
        }
      ]
    },
    {
      "cell_type": "markdown",
      "metadata": {
        "id": "pzD8H8nEt_g0"
      },
      "source": [
        "E por último selecionamos apenas as colunas de interesse, finalizando o tratamento desses arquivos."
      ]
    },
    {
      "cell_type": "code",
      "metadata": {
        "id": "JH28Clm-e4I7",
        "colab": {
          "base_uri": "https://localhost:8080/"
        },
        "outputId": "d8d1ed99-6a8d-42de-a9f1-aa8911b768b3"
      },
      "source": [
        "df = df.select('Movie_Id','Rating')\n",
        "\n",
        "df.show(5)"
      ],
      "execution_count": null,
      "outputs": [
        {
          "output_type": "stream",
          "text": [
            "+--------+------+\n",
            "|Movie_Id|Rating|\n",
            "+--------+------+\n",
            "|       1|     3|\n",
            "|       1|     5|\n",
            "|       1|     4|\n",
            "|       1|     4|\n",
            "|       1|     3|\n",
            "+--------+------+\n",
            "only showing top 5 rows\n",
            "\n"
          ],
          "name": "stdout"
        }
      ]
    },
    {
      "cell_type": "markdown",
      "metadata": {
        "id": "FovhR0XTuTv1"
      },
      "source": [
        "Agora carregamos os dados da Amazon, usando o separado por tabulação."
      ]
    },
    {
      "cell_type": "code",
      "metadata": {
        "id": "KiC90ibJt3ub"
      },
      "source": [
        "amazon = spark.read.csv('/content/amazon_reviews_us_Digital_Video_Download_v1_00.tsv', sep=r'\\t', inferSchema=True, header=True)\n"
      ],
      "execution_count": null,
      "outputs": []
    },
    {
      "cell_type": "markdown",
      "metadata": {
        "id": "39cyF3kxugU1"
      },
      "source": [
        "E aqui, carregamos os nome dos filmes da Netflix, não sendo necessário nenhum tratamento adicional. "
      ]
    },
    {
      "cell_type": "code",
      "metadata": {
        "id": "q0KqqHDSyY4V"
      },
      "source": [
        "netflix_filmes = spark.read.csv('/content/movie_titles.csv', sep=r',', inferSchema=True)\n",
        "netflix_filmes = netflix_filmes.withColumnRenamed('_c1','Ano')\n",
        "netflix_filmes = netflix_filmes.withColumnRenamed('_c2','Filme')"
      ],
      "execution_count": null,
      "outputs": []
    },
    {
      "cell_type": "code",
      "metadata": {
        "id": "bRH8_eha3v0k"
      },
      "source": [
        "from pyspark.sql.functions import concat_ws,col\n",
        "\n",
        "netflix_filmes = netflix_filmes.select(concat_ws('_',netflix_filmes.Filme,netflix_filmes.Ano)\n",
        "              .alias(\"Filme+data\"),\"Ano\",\"Filme\", '_c0')"
      ],
      "execution_count": null,
      "outputs": []
    },
    {
      "cell_type": "code",
      "metadata": {
        "colab": {
          "base_uri": "https://localhost:8080/"
        },
        "id": "B4tysUDS2Vd-",
        "outputId": "e63f1f4d-64d8-472a-d4e8-91d646cd3c2a"
      },
      "source": [
        "netflix_filmes.show(5, truncate=False)"
      ],
      "execution_count": null,
      "outputs": [
        {
          "output_type": "stream",
          "text": [
            "+---------------------------------+----+----------------------------+---+\n",
            "|Filme+data                       |Ano |Filme                       |_c0|\n",
            "+---------------------------------+----+----------------------------+---+\n",
            "|Dinosaur Planet_2003             |2003|Dinosaur Planet             |1  |\n",
            "|Isle of Man TT 2004 Review_2004  |2004|Isle of Man TT 2004 Review  |2  |\n",
            "|Character_1997                   |1997|Character                   |3  |\n",
            "|Paula Abdul's Get Up & Dance_1994|1994|Paula Abdul's Get Up & Dance|4  |\n",
            "|The Rise and Fall of ECW_2004    |2004|The Rise and Fall of ECW    |5  |\n",
            "+---------------------------------+----+----------------------------+---+\n",
            "only showing top 5 rows\n",
            "\n"
          ],
          "name": "stdout"
        }
      ]
    },
    {
      "cell_type": "markdown",
      "metadata": {
        "id": "SHsKgUsw1iQI"
      },
      "source": [
        "Quantos Filmes estão disponíveis na Amazon? Contaram-se apenas os valores não duplicados."
      ]
    },
    {
      "cell_type": "code",
      "metadata": {
        "colab": {
          "base_uri": "https://localhost:8080/"
        },
        "id": "TKaIykZD2kzF",
        "outputId": "35e7439b-0124-4be7-8b99-338eeffd4f7b"
      },
      "source": [
        "from pyspark.sql.functions import countDistinct\n",
        "\n",
        "n_amazon = amazon.agg(countDistinct('product_title')).collect()[0].asDict()['count(product_title)']\n",
        "print('Filmes Amazon: ', n_amazon)"
      ],
      "execution_count": null,
      "outputs": [
        {
          "output_type": "stream",
          "text": [
            "Filmes Amazon:  42399\n"
          ],
          "name": "stdout"
        }
      ]
    },
    {
      "cell_type": "markdown",
      "metadata": {
        "id": "jeTF7CID4WUm"
      },
      "source": [
        "Quantos Filmes estão disponíveis na Netflix?\n",
        "\n",
        "- Foi usada a coluna 'Filmes+data' pois alguns filmes possuiam mesmo nome, porem o ano de lançamento era diferente."
      ]
    },
    {
      "cell_type": "code",
      "metadata": {
        "colab": {
          "base_uri": "https://localhost:8080/"
        },
        "id": "tK8qWILm4a8M",
        "outputId": "29294d26-6641-47e8-9a97-50061d6704ad"
      },
      "source": [
        "n_netflix = netflix_filmes.agg(countDistinct('Filme+data')).collect()[0].asDict()['count(Filme+data)']\n",
        "print('Filmes Netflix: ', n_netflix)"
      ],
      "execution_count": null,
      "outputs": [
        {
          "output_type": "stream",
          "text": [
            "Filmes Netflix:  17754\n"
          ],
          "name": "stdout"
        }
      ]
    },
    {
      "cell_type": "markdown",
      "metadata": {
        "id": "_IbA8uyd6JmQ"
      },
      "source": [
        "Dos filmes disponíveis na Amazon, quantos % estão disponíveis na Netflix?"
      ]
    },
    {
      "cell_type": "code",
      "metadata": {
        "colab": {
          "base_uri": "https://localhost:8080/"
        },
        "id": "HLyzuDxE6P5Y",
        "outputId": "50de8c51-c893-4bb7-82de-5c795a77f2f7"
      },
      "source": [
        "join_df = amazon.join(netflix_filmes, amazon.product_title == netflix_filmes.Filme, 'inner')\n",
        "\n",
        "n_amz_net = join_df.agg(countDistinct('Filme')).collect()[0].asDict()['count(Filme)']\n",
        "\n",
        "print('Percentual de Filmes disponíveis na Amazon que estão também disponíveis na Netflix: ', '%.2f' % (n_amz_net/n_amazon*100))"
      ],
      "execution_count": null,
      "outputs": [
        {
          "output_type": "stream",
          "text": [
            "Percentual de Filmes disponíveis na Amazon que estão também disponíveis na Netflix:  10.05\n"
          ],
          "name": "stdout"
        }
      ]
    },
    {
      "cell_type": "markdown",
      "metadata": {
        "id": "8wIZZb2WPDgJ"
      },
      "source": [
        "Qual ano de lançamento possui mais filmes na Netflix?"
      ]
    },
    {
      "cell_type": "code",
      "metadata": {
        "id": "8cnUE5c5D1e1"
      },
      "source": [
        "netflix_filmes_2 = netflix_filmes.dropDuplicates(['Filme+data'])\n"
      ],
      "execution_count": null,
      "outputs": []
    },
    {
      "cell_type": "code",
      "metadata": {
        "id": "CGuW4uJxThzf"
      },
      "source": [
        "netflix_filmes_2.createOrReplaceTempView('netflix')\n",
        "netflix_filmes_2 = spark.sql('SELECT ANO, COUNT(*) FROM netflix GROUP BY ANO')\n"
      ],
      "execution_count": null,
      "outputs": []
    },
    {
      "cell_type": "code",
      "metadata": {
        "colab": {
          "base_uri": "https://localhost:8080/"
        },
        "id": "XH3zrIzZgOft",
        "outputId": "18422fa5-cbd8-4346-8aa7-e8e33e54f0d4"
      },
      "source": [
        "ano_nf = netflix_filmes_2.orderBy(netflix_filmes_2['count(1)'].desc()).collect()[0].asDict()\n",
        "ano_nf['ANO']\n",
        "\n",
        "print('Ano com mais lançamentos na Netflix: ' + ano_nf['ANO'])"
      ],
      "execution_count": null,
      "outputs": [
        {
          "output_type": "stream",
          "text": [
            "Ano com mais lançamentos na Netflix: 2004\n"
          ],
          "name": "stdout"
        }
      ]
    },
    {
      "cell_type": "markdown",
      "metadata": {
        "id": "Wb_TVE4biMSz"
      },
      "source": [
        "Quais filmes que não estão disponíveis no catálogo da Netflix foram melhor avaliados\n",
        "(notas 4 e 5)?"
      ]
    },
    {
      "cell_type": "code",
      "metadata": {
        "colab": {
          "base_uri": "https://localhost:8080/"
        },
        "id": "pxrXV4Fmkrg-",
        "outputId": "59d0de01-c879-4df0-f5bb-9682a57bbe61"
      },
      "source": [
        "amazon_2 = amazon.dropDuplicates(['product_title'])\n",
        "netflix_filmes_2 = netflix_filmes.dropDuplicates(['Filme'])\n",
        "\n",
        "join_df2 = amazon_2.join(netflix_filmes_2, amazon_2.product_title == netflix_filmes_2.Filme, 'left')\n",
        "\n",
        "join_df2 = join_df2.filter(join_df2.Filme.isNull())\n",
        "\n",
        "join_df2.filter(join_df2['star_rating'] >= 4).select('product_title','star_rating').show(5)\n"
      ],
      "execution_count": null,
      "outputs": [
        {
          "output_type": "stream",
          "text": [
            "+--------------------+-----------+\n",
            "|       product_title|star_rating|\n",
            "+--------------------+-----------+\n",
            "|Six Feet Under Se...|          5|\n",
            "|  Dominion, Season 2|          5|\n",
            "|  The Last Airbender|          5|\n",
            "|Game of Thrones S...|          5|\n",
            "|           Cry Havoc|          5|\n",
            "+--------------------+-----------+\n",
            "only showing top 5 rows\n",
            "\n"
          ],
          "name": "stdout"
        }
      ]
    },
    {
      "cell_type": "markdown",
      "metadata": {
        "id": "SV5f_gxiXqj1"
      },
      "source": [
        "Quais filmes que não estão disponíveis no catálogo da Netflix foram melhor avaliados\n",
        "(notas 4 e 5)? \n",
        "- No caso foi feita uma união com o df contendo as avaliações dos clientes da Netflix com o df contendo o nome dos filmes disponíveis na Netflix."
      ]
    },
    {
      "cell_type": "code",
      "metadata": {
        "colab": {
          "base_uri": "https://localhost:8080/"
        },
        "id": "54hlrEoq7WiH",
        "outputId": "5932cb7b-213e-4b43-c905-ca97e00aa2d4"
      },
      "source": [
        "join_nf = netflix_filmes.join(df, netflix_filmes._c0 == df.Movie_Id, 'inner')\n",
        "\n",
        "join_nf.show(5)"
      ],
      "execution_count": null,
      "outputs": [
        {
          "output_type": "stream",
          "text": [
            "+--------------------+----+---------------+---+--------+------+\n",
            "|          Filme+data| Ano|          Filme|_c0|Movie_Id|Rating|\n",
            "+--------------------+----+---------------+---+--------+------+\n",
            "|Dinosaur Planet_2003|2003|Dinosaur Planet|  1|       1|     3|\n",
            "|Dinosaur Planet_2003|2003|Dinosaur Planet|  1|       1|     5|\n",
            "|Dinosaur Planet_2003|2003|Dinosaur Planet|  1|       1|     4|\n",
            "|Dinosaur Planet_2003|2003|Dinosaur Planet|  1|       1|     4|\n",
            "|Dinosaur Planet_2003|2003|Dinosaur Planet|  1|       1|     3|\n",
            "+--------------------+----+---------------+---+--------+------+\n",
            "only showing top 5 rows\n",
            "\n"
          ],
          "name": "stdout"
        }
      ]
    },
    {
      "cell_type": "code",
      "metadata": {
        "colab": {
          "base_uri": "https://localhost:8080/"
        },
        "id": "jkW9HCC2AuUm",
        "outputId": "812ef6d3-68f0-4117-eb87-0a3d962de05c"
      },
      "source": [
        "mean_rating = join_nf.groupBy('_c0').agg(f.mean('Rating'), f.first('Filme'))\n",
        "mean_rating.filter(mean_rating['avg(Rating)'] >= 4).select('_c0', 'avg(Rating)', 'first(Filme)').show(5, truncate = False)\n"
      ],
      "execution_count": null,
      "outputs": [
        {
          "output_type": "stream",
          "text": [
            "+---+-----------------+---------------------------------------------------------------------------+\n",
            "|_c0|avg(Rating)      |first(Filme)                                                               |\n",
            "+---+-----------------+---------------------------------------------------------------------------+\n",
            "|13 |4.552            |Lord of the Rings: The Return of the King: Extended Edition: Bonus Material|\n",
            "|32 |4.071736785329018|ABC Primetime: Mel Gibson's The Passion of the Christ                      |\n",
            "|33 |4.168650217706822|Aqua Teen Hunger Force: Vol. 1                                             |\n",
            "|68 |4.14259927797834 |Invader Zim                                                                |\n",
            "|76 |4.090385917400136|I Love Lucy: Season 2                                                      |\n",
            "+---+-----------------+---------------------------------------------------------------------------+\n",
            "only showing top 5 rows\n",
            "\n"
          ],
          "name": "stdout"
        }
      ]
    }
  ]
}